{
 "cells": [
  {
   "cell_type": "markdown",
   "id": "376eae20-5e7f-4152-9735-00d00f7688cb",
   "metadata": {},
   "source": [
    "# 2. Data Collection\n",
    "-  Gather data on penalties called in NFL games, including the player positions penalized and the type of penalties incurred"
   ]
  },
  {
   "cell_type": "code",
   "execution_count": 4,
   "id": "9e2a8ee1-d785-41e4-b612-127a93231a53",
   "metadata": {},
   "outputs": [],
   "source": [
    "import pandas as pd\n",
    "import numpy as np"
   ]
  },
  {
   "cell_type": "code",
   "execution_count": 5,
   "id": "a3932a45-577b-4542-b4c1-783e8742637e",
   "metadata": {},
   "outputs": [],
   "source": [
    "games = pd.read_csv('Files 0\\games.csv')\n",
    "log = pd.read_csv('Files 0\\log.csv')\n",
    "penalties = pd.read_csv('Files 0\\penalties.csv')\n",
    "players = pd.read_csv('Files 0\\players.csv')\n",
    "teams = pd.read_csv('Files 0\\\\team.csv')"
   ]
  },
  {
   "cell_type": "code",
   "execution_count": 6,
   "id": "6e520037-4dcf-408c-8e74-ff04737d3b7c",
   "metadata": {},
   "outputs": [
    {
     "data": {
      "text/plain": [
       "Index(['Away_Team', 'Home_Team', 'Date', 'Ref_Crew', 'Accepted_Count', 'Yards',\n",
       "       'Away_Count', 'Away_Yards', 'Home_Count', 'Home_Yards', 'Total_Flags',\n",
       "       'Week', 'Year'],\n",
       "      dtype='object')"
      ]
     },
     "execution_count": 6,
     "metadata": {},
     "output_type": "execute_result"
    }
   ],
   "source": [
    "games.columns"
   ]
  },
  {
   "cell_type": "code",
   "execution_count": 7,
   "id": "5513cfa3-b9d7-4bbb-97f0-51de6af35528",
   "metadata": {},
   "outputs": [
    {
     "data": {
      "text/plain": [
       "Index(['Penalty', 'Date', 'Against', 'Beneficiary', 'Player', 'Pos',\n",
       "       'Ref_Crew', 'Quarter', 'Time', 'Down', 'Distance', 'Declined',\n",
       "       'Offsetting', 'Yards', 'Home', 'Phase', 'Week', 'Year'],\n",
       "      dtype='object')"
      ]
     },
     "execution_count": 7,
     "metadata": {},
     "output_type": "execute_result"
    }
   ],
   "source": [
    "log.columns"
   ]
  },
  {
   "cell_type": "code",
   "execution_count": 8,
   "id": "81592c66-260b-4b1c-aeed-ec09c9a42435",
   "metadata": {},
   "outputs": [
    {
     "data": {
      "text/plain": [
       "Index(['Name', 'Count', 'Yards', 'Declined', 'Offsetting', 'Home_Count',\n",
       "       'Away_Count', 'Off_Count', 'Def_Count', 'ST_Count', 'Week', 'Year'],\n",
       "      dtype='object')"
      ]
     },
     "execution_count": 8,
     "metadata": {},
     "output_type": "execute_result"
    }
   ],
   "source": [
    "penalties.columns"
   ]
  },
  {
   "cell_type": "code",
   "execution_count": 9,
   "id": "45d74a46-5835-4064-9351-52fdb2b2c70d",
   "metadata": {},
   "outputs": [
    {
     "data": {
      "text/plain": [
       "Index(['Name', 'Team', 'Pos', 'Count', 'Yards', 'Declined', 'Offsetting',\n",
       "       'Pre-Snap', 'Penalties', 'Week', 'Year'],\n",
       "      dtype='object')"
      ]
     },
     "execution_count": 9,
     "metadata": {},
     "output_type": "execute_result"
    }
   ],
   "source": [
    "players.columns"
   ]
  },
  {
   "cell_type": "code",
   "execution_count": 10,
   "id": "f4892437-40c4-4e8a-8bcb-eedbf2e3f2b0",
   "metadata": {},
   "outputs": [
    {
     "data": {
      "text/plain": [
       "Index(['Against', 'Beneficiary', 'Date', 'Ref_Crew', 'Total_Count',\n",
       "       'Total_Yards', 'Off_Count', 'Off_Yards', 'Def_Count', 'Def_Yards',\n",
       "       'ST_Count', 'ST_Yards', 'Pre-Snap', 'Off_Pre-Snap', 'Def_Pre-Snap',\n",
       "       'ST_Pre-Snap', 'Declined', 'Offsetting', 'Week', 'Year'],\n",
       "      dtype='object')"
      ]
     },
     "execution_count": 10,
     "metadata": {},
     "output_type": "execute_result"
    }
   ],
   "source": [
    "teams.columns"
   ]
  },
  {
   "cell_type": "code",
   "execution_count": null,
   "id": "0c0914a0-c365-49a3-b478-07737dfcd60f",
   "metadata": {},
   "outputs": [],
   "source": []
  },
  {
   "cell_type": "code",
   "execution_count": null,
   "id": "4f2808c6-6704-4c2d-93f8-03bbbffb36fd",
   "metadata": {},
   "outputs": [],
   "source": []
  }
 ],
 "metadata": {
  "kernelspec": {
   "display_name": "Python 3 (ipykernel)",
   "language": "python",
   "name": "python3"
  },
  "language_info": {
   "codemirror_mode": {
    "name": "ipython",
    "version": 3
   },
   "file_extension": ".py",
   "mimetype": "text/x-python",
   "name": "python",
   "nbconvert_exporter": "python",
   "pygments_lexer": "ipython3",
   "version": "3.11.7"
  }
 },
 "nbformat": 4,
 "nbformat_minor": 5
}
