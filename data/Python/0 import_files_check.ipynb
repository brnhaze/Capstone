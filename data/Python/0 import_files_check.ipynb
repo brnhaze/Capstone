{
 "cells": [
  {
   "cell_type": "code",
   "execution_count": 1,
   "id": "aee9110f-b7ed-4466-836a-3c494e6206b8",
   "metadata": {},
   "outputs": [],
   "source": [
    "import pandas as pd\n",
    "import numpy as np"
   ]
  },
  {
   "cell_type": "code",
   "execution_count": 2,
   "id": "c5acad67-735b-4572-9501-1507edb63e90",
   "metadata": {},
   "outputs": [],
   "source": [
    "games = pd.read_csv('Files 0\\games.csv')\n",
    "log = pd.read_csv('Files 0\\log.csv')\n",
    "penalties = pd.read_csv('Files 0\\penalties.csv')\n",
    "players = pd.read_csv('Files 0\\players.csv')\n",
    "teams = pd.read_csv('Files 0\\\\team.csv')"
   ]
  },
  {
   "cell_type": "code",
   "execution_count": 8,
   "id": "b9f2fa68-f917-4f16-bf81-499d8c793b82",
   "metadata": {},
   "outputs": [
    {
     "data": {
      "text/plain": [
       "Index(['Away_Team', 'Home_Team', 'Date', 'Ref_Crew', 'Accepted_Count', 'Yards',\n",
       "       'Away_Count', 'Away_Yards', 'Home_Count', 'Home_Yards', 'Total_Flags',\n",
       "       'Week', 'Year'],\n",
       "      dtype='object')"
      ]
     },
     "execution_count": 8,
     "metadata": {},
     "output_type": "execute_result"
    }
   ],
   "source": [
    "games.columns"
   ]
  },
  {
   "cell_type": "code",
   "execution_count": 3,
   "id": "42e5afcb-ee84-4f13-81f4-0f4fe39c282b",
   "metadata": {},
   "outputs": [
    {
     "data": {
      "text/plain": [
       "Away_Team         object\n",
       "Home_Team         object\n",
       "Date              object\n",
       "Ref_Crew          object\n",
       "Accepted_Count     int64\n",
       "Yards              int64\n",
       "Away_Count         int64\n",
       "Away_Yards         int64\n",
       "Home_Count         int64\n",
       "Home_Yards         int64\n",
       "Total_Flags        int64\n",
       "Week               int64\n",
       "Year               int64\n",
       "dtype: object"
      ]
     },
     "execution_count": 3,
     "metadata": {},
     "output_type": "execute_result"
    }
   ],
   "source": [
    "games.dtypes"
   ]
  },
  {
   "cell_type": "code",
   "execution_count": 9,
   "id": "dfbbebcd-33c4-4a42-8e33-0e303a91baeb",
   "metadata": {},
   "outputs": [
    {
     "data": {
      "text/plain": [
       "Index(['Penalty', 'Date', 'Against', 'Beneficiary', 'Player', 'Pos',\n",
       "       'Ref_Crew', 'Quarter', 'Time', 'Down', 'Distance', 'Declined',\n",
       "       'Offsetting', 'Yards', 'Home', 'Phase', 'Week', 'Year'],\n",
       "      dtype='object')"
      ]
     },
     "execution_count": 9,
     "metadata": {},
     "output_type": "execute_result"
    }
   ],
   "source": [
    "log.columns"
   ]
  },
  {
   "cell_type": "code",
   "execution_count": 4,
   "id": "ad6558d9-461f-4bcf-a4d6-4f12bf97357f",
   "metadata": {},
   "outputs": [
    {
     "data": {
      "text/plain": [
       "Penalty        object\n",
       "Date           object\n",
       "Against        object\n",
       "Beneficiary    object\n",
       "Player         object\n",
       "Pos            object\n",
       "Ref_Crew       object\n",
       "Quarter         int64\n",
       "Time           object\n",
       "Down            int64\n",
       "Distance        int64\n",
       "Declined       object\n",
       "Offsetting     object\n",
       "Yards           int64\n",
       "Home           object\n",
       "Phase          object\n",
       "Week            int64\n",
       "Year            int64\n",
       "dtype: object"
      ]
     },
     "execution_count": 4,
     "metadata": {},
     "output_type": "execute_result"
    }
   ],
   "source": [
    "log.dtypes"
   ]
  },
  {
   "cell_type": "code",
   "execution_count": 10,
   "id": "19262196-7bf4-44da-aecb-999f8595b135",
   "metadata": {},
   "outputs": [
    {
     "data": {
      "text/plain": [
       "Index(['Name', 'Count', 'Yards', 'Declined', 'Offsetting', 'Home_Count',\n",
       "       'Away_Count', 'Off_Count', 'Def_Count', 'ST_Count', 'Week', 'Year'],\n",
       "      dtype='object')"
      ]
     },
     "execution_count": 10,
     "metadata": {},
     "output_type": "execute_result"
    }
   ],
   "source": [
    "penalties.columns"
   ]
  },
  {
   "cell_type": "code",
   "execution_count": 5,
   "id": "3aed8cd6-c4a0-4d66-b73a-e671063e450d",
   "metadata": {},
   "outputs": [
    {
     "data": {
      "text/plain": [
       "Name          object\n",
       "Count          int64\n",
       "Yards          int64\n",
       "Declined       int64\n",
       "Offsetting     int64\n",
       "Home_Count     int64\n",
       "Away_Count     int64\n",
       "Off_Count      int64\n",
       "Def_Count      int64\n",
       "ST_Count       int64\n",
       "Week           int64\n",
       "Year           int64\n",
       "dtype: object"
      ]
     },
     "execution_count": 5,
     "metadata": {},
     "output_type": "execute_result"
    }
   ],
   "source": [
    "penalties.dtypes"
   ]
  },
  {
   "cell_type": "code",
   "execution_count": 11,
   "id": "5f91c762-6234-4513-b0b2-1277ecd46820",
   "metadata": {},
   "outputs": [
    {
     "data": {
      "text/plain": [
       "Index(['Name', 'Team', 'Pos', 'Count', 'Yards', 'Declined', 'Offsetting',\n",
       "       'Pre-Snap', 'Penalties', 'Week', 'Year'],\n",
       "      dtype='object')"
      ]
     },
     "execution_count": 11,
     "metadata": {},
     "output_type": "execute_result"
    }
   ],
   "source": [
    "players.columns"
   ]
  },
  {
   "cell_type": "code",
   "execution_count": 7,
   "id": "30912127-2ae1-44f2-9166-63329c15a46e",
   "metadata": {},
   "outputs": [
    {
     "data": {
      "text/plain": [
       "Name          object\n",
       "Team          object\n",
       "Pos           object\n",
       "Count          int64\n",
       "Yards          int64\n",
       "Declined       int64\n",
       "Offsetting     int64\n",
       "Pre-Snap       int64\n",
       "Penalties     object\n",
       "Week           int64\n",
       "Year           int64\n",
       "dtype: object"
      ]
     },
     "execution_count": 7,
     "metadata": {},
     "output_type": "execute_result"
    }
   ],
   "source": [
    "players.dtypes"
   ]
  },
  {
   "cell_type": "code",
   "execution_count": 13,
   "id": "82faad9a-cb99-4f00-a5b4-8cbedb0d25d2",
   "metadata": {},
   "outputs": [
    {
     "data": {
      "text/plain": [
       "Index(['Against', 'Beneficiary', 'Date', 'Ref_Crew', 'Total_Count',\n",
       "       'Total_Yards', 'Off_Count', 'Off_Yards', 'Def_Count', 'Def_Yards',\n",
       "       'ST_Count', 'ST_Yards', 'Pre-Snap', 'Off_Pre-Snap', 'Def_Pre-Snap',\n",
       "       'ST_Pre-Snap', 'Declined', 'Offsetting', 'Week', 'Year'],\n",
       "      dtype='object')"
      ]
     },
     "execution_count": 13,
     "metadata": {},
     "output_type": "execute_result"
    }
   ],
   "source": [
    "teams.columns"
   ]
  },
  {
   "cell_type": "code",
   "execution_count": 8,
   "id": "f35c9fe1-0b19-4e24-bb94-f5577b808a0e",
   "metadata": {},
   "outputs": [
    {
     "data": {
      "text/plain": [
       "Against         object\n",
       "Beneficiary     object\n",
       "Date            object\n",
       "Ref_Crew        object\n",
       "Total_Count      int64\n",
       "Total_Yards      int64\n",
       "Off_Count        int64\n",
       "Off_Yards        int64\n",
       "Def_Count        int64\n",
       "Def_Yards        int64\n",
       "ST_Count         int64\n",
       "ST_Yards         int64\n",
       "Pre-Snap         int64\n",
       "Off_Pre-Snap     int64\n",
       "Def_Pre-Snap     int64\n",
       "ST_Pre-Snap      int64\n",
       "Declined         int64\n",
       "Offsetting       int64\n",
       "Week            object\n",
       "Year             int64\n",
       "dtype: object"
      ]
     },
     "execution_count": 8,
     "metadata": {},
     "output_type": "execute_result"
    }
   ],
   "source": [
    "teams.dtypes"
   ]
  },
  {
   "cell_type": "code",
   "execution_count": null,
   "id": "b52b6a51-95a4-48b3-901f-64f32245c8c9",
   "metadata": {},
   "outputs": [],
   "source": []
  }
 ],
 "metadata": {
  "kernelspec": {
   "display_name": "Python 3 (ipykernel)",
   "language": "python",
   "name": "python3"
  },
  "language_info": {
   "codemirror_mode": {
    "name": "ipython",
    "version": 3
   },
   "file_extension": ".py",
   "mimetype": "text/x-python",
   "name": "python",
   "nbconvert_exporter": "python",
   "pygments_lexer": "ipython3",
   "version": "3.11.7"
  }
 },
 "nbformat": 4,
 "nbformat_minor": 5
}
