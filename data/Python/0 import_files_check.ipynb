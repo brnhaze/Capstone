{
 "cells": [
  {
   "cell_type": "code",
   "execution_count": 2,
   "id": "aee9110f-b7ed-4466-836a-3c494e6206b8",
   "metadata": {},
   "outputs": [],
   "source": [
    "import pandas as pd\n",
    "import numpy as np"
   ]
  },
  {
   "cell_type": "code",
   "execution_count": 3,
   "id": "c5acad67-735b-4572-9501-1507edb63e90",
   "metadata": {},
   "outputs": [],
   "source": [
    "data_collection = pd.read_csv('C:/Users/ashwi/Documents/LighthouseLabs/Data Analysis/Capstone Project/capstone/data/1/data_collection.csv')\n",
    "pen_by_pos = pd.read_csv('C:/Users/ashwi/Documents/LighthouseLabs/Data Analysis/Capstone Project/capstone/data/1/pen_by_pos.csv')\n",
    "pen_by_pos_2 = pd.read_csv('C:/Users/ashwi/Documents/LighthouseLabs/Data Analysis/Capstone Project/capstone/data/1/pen_by_pos_2.csv')\n",
    "log = pd.read_csv('C:/Users/ashwi\\Documents/LighthouseLabs/Data Analysis/Capstone Project/capstone/data/0 Kraggle Original/log.csv')"
   ]
  },
  {
   "cell_type": "code",
   "execution_count": 4,
   "id": "b9f2fa68-f917-4f16-bf81-499d8c793b82",
   "metadata": {},
   "outputs": [
    {
     "data": {
      "text/plain": [
       "Index(['name', 'team', 'pos', 'penalty_name', 'penalty_yards',\n",
       "       'total_penalty_yards_by_position', 'total_penalty_yards_by_player',\n",
       "       'total_penalty_yards_by_team'],\n",
       "      dtype='object')"
      ]
     },
     "execution_count": 4,
     "metadata": {},
     "output_type": "execute_result"
    }
   ],
   "source": [
    "data_collection.columns"
   ]
  },
  {
   "cell_type": "code",
   "execution_count": 5,
   "id": "42e5afcb-ee84-4f13-81f4-0f4fe39c282b",
   "metadata": {},
   "outputs": [
    {
     "data": {
      "text/plain": [
       "name                               object\n",
       "team                               object\n",
       "pos                                object\n",
       "penalty_name                       object\n",
       "penalty_yards                       int64\n",
       "total_penalty_yards_by_position     int64\n",
       "total_penalty_yards_by_player       int64\n",
       "total_penalty_yards_by_team         int64\n",
       "dtype: object"
      ]
     },
     "execution_count": 5,
     "metadata": {},
     "output_type": "execute_result"
    }
   ],
   "source": [
    "data_collection.dtypes"
   ]
  },
  {
   "cell_type": "code",
   "execution_count": 17,
   "id": "d3737a84-a30a-4c35-9f8c-6aabad3b4f1c",
   "metadata": {},
   "outputs": [
    {
     "data": {
      "text/html": [
       "<div>\n",
       "<style scoped>\n",
       "    .dataframe tbody tr th:only-of-type {\n",
       "        vertical-align: middle;\n",
       "    }\n",
       "\n",
       "    .dataframe tbody tr th {\n",
       "        vertical-align: top;\n",
       "    }\n",
       "\n",
       "    .dataframe thead th {\n",
       "        text-align: right;\n",
       "    }\n",
       "</style>\n",
       "<table border=\"1\" class=\"dataframe\">\n",
       "  <thead>\n",
       "    <tr style=\"text-align: right;\">\n",
       "      <th></th>\n",
       "      <th>name</th>\n",
       "      <th>team</th>\n",
       "      <th>pos</th>\n",
       "      <th>penalty_name</th>\n",
       "      <th>penalty_yards</th>\n",
       "      <th>total_penalty_yards_by_position</th>\n",
       "      <th>total_penalty_yards_by_player</th>\n",
       "      <th>total_penalty_yards_by_team</th>\n",
       "    </tr>\n",
       "  </thead>\n",
       "  <tbody>\n",
       "    <tr>\n",
       "      <th>0</th>\n",
       "      <td>A.Gurode</td>\n",
       "      <td>Dallas</td>\n",
       "      <td>C</td>\n",
       "      <td>Defensive Pass Interference</td>\n",
       "      <td>220</td>\n",
       "      <td>3821</td>\n",
       "      <td>456</td>\n",
       "      <td>3299</td>\n",
       "    </tr>\n",
       "  </tbody>\n",
       "</table>\n",
       "</div>"
      ],
      "text/plain": [
       "       name    team pos                 penalty_name  penalty_yards  \\\n",
       "0  A.Gurode  Dallas   C  Defensive Pass Interference            220   \n",
       "\n",
       "   total_penalty_yards_by_position  total_penalty_yards_by_player  \\\n",
       "0                             3821                            456   \n",
       "\n",
       "   total_penalty_yards_by_team  \n",
       "0                         3299  "
      ]
     },
     "execution_count": 17,
     "metadata": {},
     "output_type": "execute_result"
    }
   ],
   "source": [
    "data_collection.head(1)"
   ]
  },
  {
   "cell_type": "code",
   "execution_count": 6,
   "id": "b52b6a51-95a4-48b3-901f-64f32245c8c9",
   "metadata": {},
   "outputs": [
    {
     "data": {
      "text/plain": [
       "Index(['pos', 'count_by_pos', 'total_penalty_yards_by_position'], dtype='object')"
      ]
     },
     "execution_count": 6,
     "metadata": {},
     "output_type": "execute_result"
    }
   ],
   "source": [
    "pen_by_pos.columns"
   ]
  },
  {
   "cell_type": "code",
   "execution_count": 7,
   "id": "5b2d0df3-3a17-44a6-ac67-2583dd330c55",
   "metadata": {},
   "outputs": [
    {
     "data": {
      "text/plain": [
       "pos                                object\n",
       "count_by_pos                        int64\n",
       "total_penalty_yards_by_position     int64\n",
       "dtype: object"
      ]
     },
     "execution_count": 7,
     "metadata": {},
     "output_type": "execute_result"
    }
   ],
   "source": [
    "pen_by_pos.dtypes"
   ]
  },
  {
   "cell_type": "code",
   "execution_count": 16,
   "id": "e8d50ae4-f96b-4d10-a10b-82eaf17e2462",
   "metadata": {},
   "outputs": [
    {
     "data": {
      "text/html": [
       "<div>\n",
       "<style scoped>\n",
       "    .dataframe tbody tr th:only-of-type {\n",
       "        vertical-align: middle;\n",
       "    }\n",
       "\n",
       "    .dataframe tbody tr th {\n",
       "        vertical-align: top;\n",
       "    }\n",
       "\n",
       "    .dataframe thead th {\n",
       "        text-align: right;\n",
       "    }\n",
       "</style>\n",
       "<table border=\"1\" class=\"dataframe\">\n",
       "  <thead>\n",
       "    <tr style=\"text-align: right;\">\n",
       "      <th></th>\n",
       "      <th>pos</th>\n",
       "      <th>count_by_pos</th>\n",
       "      <th>total_penalty_yards_by_position</th>\n",
       "    </tr>\n",
       "  </thead>\n",
       "  <tbody>\n",
       "    <tr>\n",
       "      <th>0</th>\n",
       "      <td>WR</td>\n",
       "      <td>300</td>\n",
       "      <td>8360</td>\n",
       "    </tr>\n",
       "  </tbody>\n",
       "</table>\n",
       "</div>"
      ],
      "text/plain": [
       "  pos  count_by_pos  total_penalty_yards_by_position\n",
       "0  WR           300                             8360"
      ]
     },
     "execution_count": 16,
     "metadata": {},
     "output_type": "execute_result"
    }
   ],
   "source": [
    "pen_by_pos.head(1)"
   ]
  },
  {
   "cell_type": "code",
   "execution_count": 8,
   "id": "44c69494-0b6b-46b6-a528-34feb722b8b0",
   "metadata": {},
   "outputs": [
    {
     "data": {
      "text/plain": [
       "Index(['name', 'team', 'player_position', 'penalty_name', 'penalty_yards'], dtype='object')"
      ]
     },
     "execution_count": 8,
     "metadata": {},
     "output_type": "execute_result"
    }
   ],
   "source": [
    "pen_by_pos_2.columns"
   ]
  },
  {
   "cell_type": "code",
   "execution_count": 9,
   "id": "483f524b-2199-4c1c-927f-67bd1b7934af",
   "metadata": {},
   "outputs": [
    {
     "data": {
      "text/plain": [
       "name               object\n",
       "team               object\n",
       "player_position    object\n",
       "penalty_name       object\n",
       "penalty_yards       int64\n",
       "dtype: object"
      ]
     },
     "execution_count": 9,
     "metadata": {},
     "output_type": "execute_result"
    }
   ],
   "source": [
    "pen_by_pos_2.dtypes"
   ]
  },
  {
   "cell_type": "code",
   "execution_count": 15,
   "id": "222acaf7-9618-456c-a630-972ba4ce2d04",
   "metadata": {},
   "outputs": [
    {
     "data": {
      "text/html": [
       "<div>\n",
       "<style scoped>\n",
       "    .dataframe tbody tr th:only-of-type {\n",
       "        vertical-align: middle;\n",
       "    }\n",
       "\n",
       "    .dataframe tbody tr th {\n",
       "        vertical-align: top;\n",
       "    }\n",
       "\n",
       "    .dataframe thead th {\n",
       "        text-align: right;\n",
       "    }\n",
       "</style>\n",
       "<table border=\"1\" class=\"dataframe\">\n",
       "  <thead>\n",
       "    <tr style=\"text-align: right;\">\n",
       "      <th></th>\n",
       "      <th>name</th>\n",
       "      <th>team</th>\n",
       "      <th>player_position</th>\n",
       "      <th>penalty_name</th>\n",
       "      <th>penalty_yards</th>\n",
       "    </tr>\n",
       "  </thead>\n",
       "  <tbody>\n",
       "    <tr>\n",
       "      <th>0</th>\n",
       "      <td>A.Gurode</td>\n",
       "      <td>Dallas</td>\n",
       "      <td>C</td>\n",
       "      <td>Defensive Pass Interference</td>\n",
       "      <td>220</td>\n",
       "    </tr>\n",
       "  </tbody>\n",
       "</table>\n",
       "</div>"
      ],
      "text/plain": [
       "       name    team player_position                 penalty_name  \\\n",
       "0  A.Gurode  Dallas               C  Defensive Pass Interference   \n",
       "\n",
       "   penalty_yards  \n",
       "0            220  "
      ]
     },
     "execution_count": 15,
     "metadata": {},
     "output_type": "execute_result"
    }
   ],
   "source": [
    "pen_by_pos_2.head(1)"
   ]
  },
  {
   "cell_type": "code",
   "execution_count": 4,
   "id": "0495e6db-2bdf-4b60-9cd8-77df0fecf5a8",
   "metadata": {},
   "outputs": [
    {
     "data": {
      "text/plain": [
       "Index(['Penalty', 'Date', 'Against', 'Beneficiary', 'Player', 'Pos',\n",
       "       'Ref_Crew', 'Quarter', 'Time', 'Down', 'Distance', 'Declined',\n",
       "       'Offsetting', 'Yards', 'Home', 'Phase', 'Week', 'Year'],\n",
       "      dtype='object')"
      ]
     },
     "execution_count": 4,
     "metadata": {},
     "output_type": "execute_result"
    }
   ],
   "source": [
    "log.columns"
   ]
  },
  {
   "cell_type": "code",
   "execution_count": 5,
   "id": "32a5f61a-31e3-4c8d-9be1-9b9061ab231a",
   "metadata": {},
   "outputs": [
    {
     "data": {
      "text/plain": [
       "Penalty        object\n",
       "Date           object\n",
       "Against        object\n",
       "Beneficiary    object\n",
       "Player         object\n",
       "Pos            object\n",
       "Ref_Crew       object\n",
       "Quarter         int64\n",
       "Time           object\n",
       "Down            int64\n",
       "Distance        int64\n",
       "Declined       object\n",
       "Offsetting     object\n",
       "Yards           int64\n",
       "Home           object\n",
       "Phase          object\n",
       "Week            int64\n",
       "Year            int64\n",
       "dtype: object"
      ]
     },
     "execution_count": 5,
     "metadata": {},
     "output_type": "execute_result"
    }
   ],
   "source": [
    "log.dtypes"
   ]
  },
  {
   "cell_type": "code",
   "execution_count": 6,
   "id": "457c7af6-273e-4450-83f6-00394da0aeb3",
   "metadata": {},
   "outputs": [
    {
     "data": {
      "text/html": [
       "<div>\n",
       "<style scoped>\n",
       "    .dataframe tbody tr th:only-of-type {\n",
       "        vertical-align: middle;\n",
       "    }\n",
       "\n",
       "    .dataframe tbody tr th {\n",
       "        vertical-align: top;\n",
       "    }\n",
       "\n",
       "    .dataframe thead th {\n",
       "        text-align: right;\n",
       "    }\n",
       "</style>\n",
       "<table border=\"1\" class=\"dataframe\">\n",
       "  <thead>\n",
       "    <tr style=\"text-align: right;\">\n",
       "      <th></th>\n",
       "      <th>Penalty</th>\n",
       "      <th>Date</th>\n",
       "      <th>Against</th>\n",
       "      <th>Beneficiary</th>\n",
       "      <th>Player</th>\n",
       "      <th>Pos</th>\n",
       "      <th>Ref_Crew</th>\n",
       "      <th>Quarter</th>\n",
       "      <th>Time</th>\n",
       "      <th>Down</th>\n",
       "      <th>Distance</th>\n",
       "      <th>Declined</th>\n",
       "      <th>Offsetting</th>\n",
       "      <th>Yards</th>\n",
       "      <th>Home</th>\n",
       "      <th>Phase</th>\n",
       "      <th>Week</th>\n",
       "      <th>Year</th>\n",
       "    </tr>\n",
       "  </thead>\n",
       "  <tbody>\n",
       "    <tr>\n",
       "      <th>0</th>\n",
       "      <td>Unnecessary Roughness</td>\n",
       "      <td>09/10/2009</td>\n",
       "      <td>Pittsburgh</td>\n",
       "      <td>Tennessee</td>\n",
       "      <td>T.Polamalu</td>\n",
       "      <td>SS</td>\n",
       "      <td>Bill Leavy</td>\n",
       "      <td>1</td>\n",
       "      <td>8:20</td>\n",
       "      <td>1</td>\n",
       "      <td>10</td>\n",
       "      <td>No</td>\n",
       "      <td>No</td>\n",
       "      <td>15</td>\n",
       "      <td>Yes</td>\n",
       "      <td>Defense</td>\n",
       "      <td>1</td>\n",
       "      <td>2009</td>\n",
       "    </tr>\n",
       "  </tbody>\n",
       "</table>\n",
       "</div>"
      ],
      "text/plain": [
       "                 Penalty        Date     Against Beneficiary      Player Pos  \\\n",
       "0  Unnecessary Roughness  09/10/2009  Pittsburgh   Tennessee  T.Polamalu  SS   \n",
       "\n",
       "     Ref_Crew  Quarter  Time  Down  Distance Declined Offsetting  Yards Home  \\\n",
       "0  Bill Leavy        1  8:20     1        10       No         No     15  Yes   \n",
       "\n",
       "     Phase  Week  Year  \n",
       "0  Defense     1  2009  "
      ]
     },
     "execution_count": 6,
     "metadata": {},
     "output_type": "execute_result"
    }
   ],
   "source": [
    "log.head(1)"
   ]
  },
  {
   "cell_type": "code",
   "execution_count": null,
   "id": "73424f55-1bb7-422d-af0a-6478d5473b85",
   "metadata": {},
   "outputs": [],
   "source": []
  }
 ],
 "metadata": {
  "kernelspec": {
   "display_name": "Python 3 (ipykernel)",
   "language": "python",
   "name": "python3"
  },
  "language_info": {
   "codemirror_mode": {
    "name": "ipython",
    "version": 3
   },
   "file_extension": ".py",
   "mimetype": "text/x-python",
   "name": "python",
   "nbconvert_exporter": "python",
   "pygments_lexer": "ipython3",
   "version": "3.11.7"
  }
 },
 "nbformat": 4,
 "nbformat_minor": 5
}
